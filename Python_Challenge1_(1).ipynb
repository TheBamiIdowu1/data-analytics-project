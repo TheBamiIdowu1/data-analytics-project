{
  "nbformat": 4,
  "nbformat_minor": 0,
  "metadata": {
    "colab": {
      "provenance": [],
      "include_colab_link": true
    },
    "kernelspec": {
      "name": "python3",
      "display_name": "Python 3"
    },
    "language_info": {
      "name": "python"
    }
  },
  "cells": [
    {
      "cell_type": "markdown",
      "metadata": {
        "id": "view-in-github",
        "colab_type": "text"
      },
      "source": [
        "<a href=\"https://colab.research.google.com/github/TheBamiIdowu1/data-analytics-project/blob/main/Python_Challenge1_(1).ipynb\" target=\"_parent\"><img src=\"https://colab.research.google.com/assets/colab-badge.svg\" alt=\"Open In Colab\"/></a>"
      ]
    },
    {
      "cell_type": "markdown",
      "source": [
        "![Dreams](https://cdn.pixabay.com/photo/2020/09/09/04/46/dream-big-work-hard-5556539_960_720.jpg)"
      ],
      "metadata": {
        "id": "D2fS0o1XnSWw"
      }
    },
    {
      "cell_type": "markdown",
      "source": [
        "### PREPARATION\n",
        "Go through the slide to revise what we did in class.\n",
        "\n",
        "### EXTRA RESOURCES\n",
        "The following links will direct you to W3Schools, where you can further expand your knowledge beyond the slides. This resource is intended to complement, rather than replace, the content covered in the slides.\n",
        "\n",
        "* For string, click [HERE](https://www.w3schools.com/python/python_strings.asp)\n",
        "\n",
        "* For list, click [HERE](https://www.w3schools.com/python/python_lists.asp)\n",
        "\n",
        "* For tuple, click [HERE](https://www.w3schools.com/python/python_tuples.asp)\n",
        "\n",
        "* For set, click [HERE](https://www.w3schools.com/python/python_sets.asp)\n",
        "\n",
        "* For dictionary, click [HERE](https://www.w3schools.com/python/python_dictionaries.asp)\n",
        "\n",
        "**NOTE:** You can always reference the links above for easier to navigate reading tutorial.\n",
        "\n",
        "**PS:** the essence of this assignment is to practice what you have learnt and also do personal research. Ensure you attempt it as that is how you can hone your programming skill.\n",
        "\n",
        "Good luck!"
      ],
      "metadata": {
        "id": "GHHIyWdOeJ5K"
      }
    },
    {
      "cell_type": "markdown",
      "source": [
        "# IMPORTANT ASSIGNMENT"
      ],
      "metadata": {
        "id": "S2bi4K7u-4i5"
      }
    },
    {
      "cell_type": "markdown",
      "source": [
        "### QUESTION 1\n",
        "\n",
        "Ask a user to enter a value between `0` and `100` which represent temperature in degree celcius. Convert this value of temperature in degree celcius to  fahrenheit. Assign the converted value to a variable called `result` and print out the value of the `result` variable.\n",
        "\n",
        "**HINT:** The formular for converting temperature value in degree celcius to fehrenheit is:\n",
        "\n",
        "$f$ = $(c \\times \\frac{9}{5}) + 32$\n",
        "\n",
        "* where f represent temperature in fehrenheit\n",
        "* where c represent temperature in celcius\n",
        "\n",
        "For example: if c(user input) = 5, then equivalent value in fehrenheit is:\n",
        "$f$ = $(5 \\times \\frac{9}{5}) + 32 = 47$\n",
        "\n",
        "To get input from a user, research about input function. Here are useful links:\n",
        "* Reading link: [input function on w3school](https://www.w3schools.com/python/ref_func_input.asp)\n",
        "* Video link: [input function on YouTube](https://www.youtube.com/watch?v=47ujebGLMKo)"
      ],
      "metadata": {
        "id": "luYgMzoATrCM"
      }
    },
    {
      "cell_type": "code",
      "source": [
        "#To enter a temperature in Celsius\n",
        "Celsius = float(input(\"Enter temperature in Celsius (between 0 and 100): \"))\n",
        "\n",
        "#To check if the input is within the valid range\n",
        "if 0 <= Celsius <= 100:\n",
        "# To Convert Celsius to Fahrenheit\n",
        "    Fahrenheit = (Celsius * 9/5) + 32\n",
        "# Assigning the result to a variable\n",
        "result = Fahrenheit"
      ],
      "metadata": {
        "id": "lCzx_wv-460s",
        "colab": {
          "base_uri": "https://localhost:8080/"
        },
        "outputId": "cf8d849a-314c-428d-9cc9-9458763119a0"
      },
      "execution_count": 3,
      "outputs": [
        {
          "name": "stdout",
          "output_type": "stream",
          "text": [
            "Enter temperature in Celsius (between 0 and 100): 56\n"
          ]
        }
      ]
    },
    {
      "cell_type": "code",
      "source": [
        "print(float(result))"
      ],
      "metadata": {
        "colab": {
          "base_uri": "https://localhost:8080/"
        },
        "id": "suMmxIEQwZax",
        "outputId": "dbf989e4-4c45-4c01-e357-562f1082a2ab"
      },
      "execution_count": 6,
      "outputs": [
        {
          "output_type": "stream",
          "name": "stdout",
          "text": [
            "132.8\n"
          ]
        }
      ]
    },
    {
      "cell_type": "markdown",
      "source": [
        "### QUESTION 2\n",
        "\n",
        "Given a list of numbers: `lst=[1,6,1,10,7,100,0]`, print out two new variable (*name them whatever you want*) that reference the list above in:\n",
        "1. Ascending order and  \n",
        "2. descending order respectively.\n",
        "\n",
        "**Hint:** python list has the `sort` method that can be used sort a list. Run this code, `help(list)`, to read more on how to use the `sort` method to order a list in ascending and descening.\n",
        "\n",
        "You can also learn about sort through [w3schools](https://www.w3schools.com/python/ref_list_sort.asp)"
      ],
      "metadata": {
        "id": "VjvM54SsWZWe"
      }
    },
    {
      "cell_type": "code",
      "source": [
        "#to call out the list\n",
        "lst = [1, 6, 1, 10, 7, 100, 0]"
      ],
      "metadata": {
        "id": "MG-T6fETyn5g"
      },
      "execution_count": 12,
      "outputs": []
    },
    {
      "cell_type": "code",
      "source": [
        "#to sort in ascending order\n",
        "ascending_order = sorted(lst)\n",
        "\n",
        "ascending_order"
      ],
      "metadata": {
        "colab": {
          "base_uri": "https://localhost:8080/"
        },
        "id": "m4Fu45h30DFj",
        "outputId": "fd136c11-11d1-41d3-aeee-e2fd355325e6"
      },
      "execution_count": 14,
      "outputs": [
        {
          "output_type": "execute_result",
          "data": {
            "text/plain": [
              "[0, 1, 1, 6, 7, 10, 100]"
            ]
          },
          "metadata": {},
          "execution_count": 14
        }
      ]
    },
    {
      "cell_type": "code",
      "source": [
        "#to sort in descending order\n",
        "descending_order = sorted(lst, reverse=True)\n",
        "\n",
        "descending_order"
      ],
      "metadata": {
        "colab": {
          "base_uri": "https://localhost:8080/"
        },
        "id": "6GbcEi800Jf9",
        "outputId": "53a4294b-2bd4-4a47-cdb6-1608786cef75"
      },
      "execution_count": 15,
      "outputs": [
        {
          "output_type": "execute_result",
          "data": {
            "text/plain": [
              "[100, 10, 7, 6, 1, 1, 0]"
            ]
          },
          "metadata": {},
          "execution_count": 15
        }
      ]
    },
    {
      "cell_type": "markdown",
      "source": [
        "### QUESTION 3\n",
        "Given the formular:\n",
        "$V = \\frac{4}{3} * \\pi * r^3$,\n",
        "calculate the volume of a sphere of radius $r=5$ and the constant $\\pi=3.142$?\n",
        "\n",
        "Save the result in a variable called `volume_of_cylinder_r5` and print out the value of the variable"
      ],
      "metadata": {
        "id": "g971zeFUWxcz"
      }
    },
    {
      "cell_type": "code",
      "source": [
        "#to state the values given\n",
        "\n",
        "r = 5\n",
        "π = 3.142"
      ],
      "metadata": {
        "id": "eoG8ZOGa1wWv"
      },
      "execution_count": 16,
      "outputs": []
    },
    {
      "cell_type": "code",
      "source": [
        "# To calculate the volume of the sphere using the formula\n",
        "volume_of_sphere_r5 = 4/3 * π * (r ** 3)\n",
        "\n",
        "# Print the result\n",
        "print(volume_of_sphere_r5)\n"
      ],
      "metadata": {
        "id": "qX4j1E92WuYC",
        "colab": {
          "base_uri": "https://localhost:8080/"
        },
        "outputId": "3ea0765c-95c2-470a-9f4e-00a91d2447aa"
      },
      "execution_count": 18,
      "outputs": [
        {
          "output_type": "stream",
          "name": "stdout",
          "text": [
            "523.6666666666666\n"
          ]
        }
      ]
    },
    {
      "cell_type": "markdown",
      "source": [
        "### QUESTION 4\n",
        "\n",
        "Suppose the cover price of a book is `$24.95`, but bookstores get a `40%` discount. Shipping costs `$3` for the first copy and `75 cents` for each additional copy. What is the total wholesale cost for `60` copies?"
      ],
      "metadata": {
        "id": "EMsf18HYX1cv"
      }
    },
    {
      "cell_type": "code",
      "source": [
        "#Calling the values\n",
        "#cover price of books\n",
        "cover_price = 24.95\n",
        "\n",
        "#discount\n",
        "discount = 0.40\n",
        "\n",
        "#first copy shipping cost\n",
        "shipping_first_copy = 3\n",
        "\n",
        "#additional copy shipping cost\n",
        "shipping_additional_copy = 0.75\n",
        "\n",
        "#number of copies sold\n",
        "num_copies = 60"
      ],
      "metadata": {
        "id": "aOa8HuP_XaRX"
      },
      "execution_count": 19,
      "outputs": []
    },
    {
      "cell_type": "code",
      "source": [
        "#To calculate the discounted price for one book\n",
        "discounted_price = cover_price * (1 - discount)\n",
        "\n",
        "#To calculate the total cost of the books for 60 copies\n",
        "total_book_cost = discounted_price * num_copies\n",
        "\n",
        "#To calculate the shipping cost for 60 copies\n",
        "total_shipping_cost = shipping_first_copy + (num_copies - 1) * shipping_additional_copy\n",
        "\n",
        "# Calculate the total wholesale cost\n",
        "total_wholesale_cost = total_book_cost + total_shipping_cost"
      ],
      "metadata": {
        "id": "92DHjHmM4gKo"
      },
      "execution_count": 21,
      "outputs": []
    },
    {
      "cell_type": "code",
      "source": [
        "# To print the total wholesale cost\n",
        "print(float(total_wholesale_cost))"
      ],
      "metadata": {
        "colab": {
          "base_uri": "https://localhost:8080/"
        },
        "id": "TKownsgA42jL",
        "outputId": "4ec58545-80f7-4c43-d37d-ddd67ad50c23"
      },
      "execution_count": 22,
      "outputs": [
        {
          "output_type": "stream",
          "name": "stdout",
          "text": [
            "945.4499999999999\n"
          ]
        }
      ]
    },
    {
      "cell_type": "markdown",
      "source": [
        "### QUESTION 5\n",
        "\n",
        "Ask a user to enter a word(words) of odd length and assign the user entering to a variable named `entry`. Print the first, middle and last character from the `entry` value.\n",
        "\n",
        "e.g if `entry = \"James\"`, the printed value will be `Jms`\n",
        "\n",
        "**Hing:** use the floor division to get the index of the middle value (`len(entry)//2`). Use what you learnt in class regarding index to get the first and last characters. Finally, concatenate the result together.\n",
        "\n",
        "Check this blog for explanation: [Get middle index of a string](https://discuss.codecademy.com/t/how-can-i-get-the-index-of-the-middle-element/377349)"
      ],
      "metadata": {
        "id": "bOEUiPBpae2r"
      }
    },
    {
      "cell_type": "code",
      "source": [
        "#To enter a word of odd length\n",
        "entry = input(\"Enter a word of odd length: \")\n",
        "\n",
        "# To check if the length of the word is odd\n",
        "if len(entry) % 2 != 0:\n",
        "    # Find the first, middle, and last character\n",
        "    first_char = entry[0]\n",
        "    middle_char = entry[len(entry) // 2]\n",
        "    last_char = entry[-1]\n",
        "\n",
        "    # Print the first, middle, and last characters\n",
        "    print(f\"The first, middle, and last characters are: {first_char}{middle_char}{last_char}\")\n",
        "else:\n",
        "    print(\"Please enter a word of odd length.\")"
      ],
      "metadata": {
        "id": "HWP171zFaNqA",
        "colab": {
          "base_uri": "https://localhost:8080/"
        },
        "outputId": "db5d0563-49b3-482a-f8dc-e6ae16c8810f"
      },
      "execution_count": 25,
      "outputs": [
        {
          "output_type": "stream",
          "name": "stdout",
          "text": [
            "Enter a word of odd length: Prodigals\n",
            "The first, middle, and last characters are: Pis\n"
          ]
        }
      ]
    },
    {
      "cell_type": "markdown",
      "source": [
        "# QUESTION 6\n",
        "\n",
        "Ask a user to enter a name of odd length and assign the user entering to a variable named `name`.\n",
        "\n",
        "Print a string made of the middle three characters of a given string.\n",
        "\n",
        "e.g if `name = \"JaSonAy\"`, printed result will be `Son`\n",
        "\n",
        "**Hint:** Use the approach above to get the middle index and assign the middle index to a variable. Now slice the string from the index on the left of the middle index upto the right index of the middle index."
      ],
      "metadata": {
        "id": "NhJ5JTYzcFLB"
      }
    },
    {
      "cell_type": "code",
      "source": [
        "#To enter a name of odd length\n",
        "name = input(\"Enter a name of odd length: \")\n",
        "\n",
        "# Check if the length of the name is odd\n",
        "if len(name) % 2 != 0:\n",
        "    # Calculate the index for the middle character\n",
        "    middle_index = len(name) // 2\n",
        "\n",
        "    # Extract the middle three characters\n",
        "    middle_three = name[middle_index - 1:middle_index + 2]\n",
        "\n",
        "    # Print the middle three characters\n",
        "    print(f\"The middle three characters are: {middle_three}\")\n",
        "else:\n",
        "    print(\"Please enter a name of odd length.\")\n",
        "\n"
      ],
      "metadata": {
        "id": "5YQ5n6zmbpq5",
        "colab": {
          "base_uri": "https://localhost:8080/"
        },
        "outputId": "3d9063e2-9fbb-4ef3-ccb2-7eb6ee1b87fe"
      },
      "execution_count": 26,
      "outputs": [
        {
          "output_type": "stream",
          "name": "stdout",
          "text": [
            "Enter a name of odd length: Ayobami\n",
            "The middle three characters are: oba\n"
          ]
        }
      ]
    },
    {
      "cell_type": "markdown",
      "source": [
        "### QUESTION 7\n",
        "\n",
        "Given two strings, `word1` and `word2`, write a program to return a new string made of `word1` and `word2` first, middle, and last characters.\n",
        "\n",
        "Initialise the two variables as: `word1 = \"America\"` and `word2 = \"Japan\"`\n",
        "\n",
        "Your answer is expected to be 'AJrpan'"
      ],
      "metadata": {
        "id": "3P7_qrYIdXkF"
      }
    },
    {
      "cell_type": "code",
      "source": [
        "#to call the 2 words\n",
        "word1 = \"America\"\n",
        "word2 = \"Japan\""
      ],
      "metadata": {
        "id": "rdlGKf95c_00"
      },
      "execution_count": 31,
      "outputs": []
    },
    {
      "cell_type": "code",
      "source": [
        "#Extract first, middle, and last characters from word1\n",
        "first_word1 = word1[0]\n",
        "middle_word1 = word1[len(word1) // 2]\n",
        "last_word1 = word1[-1]"
      ],
      "metadata": {
        "id": "BsnsPCNiX28k"
      },
      "execution_count": 38,
      "outputs": []
    },
    {
      "cell_type": "code",
      "source": [
        "#Extract first, middle, and last characters from word2\n",
        "first_word2 = word2[0]\n",
        "middle_word2 = word2[len(word2) // 2]\n",
        "last_word2 = word2[-1]"
      ],
      "metadata": {
        "id": "Kx_zX4wJcist"
      },
      "execution_count": 39,
      "outputs": []
    },
    {
      "cell_type": "code",
      "source": [
        "#to combine the charaters\n",
        "# Combine the parts into a new string\n",
        "new_string = first_word1 + first_word2 + middle_word1 + middle_word2 + last_word1 + last_word2\n",
        "\n",
        "# Print the new string\n",
        "print(new_string)"
      ],
      "metadata": {
        "colab": {
          "base_uri": "https://localhost:8080/"
        },
        "id": "P6Xlob0PafXT",
        "outputId": "bebee7aa-4f2b-455b-c510-2ceec9960e41"
      },
      "execution_count": 41,
      "outputs": [
        {
          "output_type": "stream",
          "name": "stdout",
          "text": [
            "AJrpan\n"
          ]
        }
      ]
    },
    {
      "cell_type": "markdown",
      "source": [
        "### QUESTION 8\n",
        "\n",
        "Given a variable and its value as `word = \"PyNaTive\"`. This word contains a combination of lower and upper case letters.\n",
        "\n",
        "Write a program to arrange the characters of a string so that all lowercase letters should come first.\n",
        "\n",
        "**Hint:** you can iterate through the characters using `for` loop and checl if each character is upper case or not. You can create an empty string and concatenate those that lowercase character to the empty string first followed by those that are uppercase."
      ],
      "metadata": {
        "id": "2-78Ro5ni58E"
      }
    },
    {
      "cell_type": "code",
      "source": [
        "#To call in the word\n",
        "word = \"PyNaTive\""
      ],
      "metadata": {
        "id": "XV_BOE35i-qi"
      },
      "execution_count": 43,
      "outputs": []
    },
    {
      "cell_type": "code",
      "source": [
        "#Tp separate lowercase and uppercase letters\n",
        "lowercase = ''.join([char for char in word if char.islower()])\n",
        "uppercase = ''.join([char for char in word if char.isupper()])\n",
        "\n",
        "#To combine the lowercase and uppercase letters\n",
        "result = lowercase + uppercase"
      ],
      "metadata": {
        "id": "Da0onyd6gCwt"
      },
      "execution_count": 44,
      "outputs": []
    },
    {
      "cell_type": "code",
      "source": [
        "#To call out the result\n",
        "print(result)"
      ],
      "metadata": {
        "colab": {
          "base_uri": "https://localhost:8080/"
        },
        "id": "nNG4xaIVgRuD",
        "outputId": "4b729f94-73bc-4c62-b692-eac789a14fc8"
      },
      "execution_count": 45,
      "outputs": [
        {
          "output_type": "stream",
          "name": "stdout",
          "text": [
            "yaivePNT\n"
          ]
        }
      ]
    },
    {
      "cell_type": "markdown",
      "source": [
        "### QUESTION 9\n",
        "\n",
        "Count all letters, digits, and special symbols from a given string:\n",
        "\n",
        "`characters = \"P@#yn26at^&i5ve\"`.\n",
        "\n",
        "**Hint:** remember that every characters in a string is a string object even it is a number. For example, the the first number in the string above is something like this, `'2'` (string) and not something like this, `2` (integer) without the quotation. `str` (string) object has a method that can check if a member of a string is a number (e.g '2'). Call `help` on `str` to find the string method that will help you with this challenge.\n",
        "\n",
        "All you need is to 3 different variables and assign zero to them to keep track of the count of numbers, special characters and alphabet. Example:\n",
        "```{py}\n",
        "number_count = 0\n",
        "alphabet_count = 0\n",
        "symbol_count = 0\n",
        "```\n",
        "Now iterate throgh the string. if it is a number, increment number_count by 1, else if it is symbol, increment symbol_count by 1 else if it is an alphabet, increment alphabet_count by 1.\n",
        "\n",
        "There is a python method to check if a number if a character is a number. To check for symbols, create a list of all special characters and check if that character is there."
      ],
      "metadata": {
        "id": "ZU6IInXneo22"
      }
    },
    {
      "cell_type": "code",
      "source": [
        "#To call the given string\n",
        "characters = \"P@#yn26at^&i5ve\""
      ],
      "metadata": {
        "id": "_SugRxMVe3ib"
      },
      "execution_count": 47,
      "outputs": []
    },
    {
      "cell_type": "code",
      "source": [
        "#To initialize counters\n",
        "letters = 0\n",
        "digits = 0\n",
        "special_symbols = 0"
      ],
      "metadata": {
        "id": "jhpWh1YxjrQR"
      },
      "execution_count": 53,
      "outputs": []
    },
    {
      "cell_type": "code",
      "source": [
        "#Iterate through each character in the string\n",
        "for char in characters:\n",
        "    if char.isalpha():  # Check if the character is a letter\n",
        "        letters += 1\n",
        "    elif char.isdigit():  # Check if the character is a digit\n",
        "        digits += 1\n",
        "    else:  # Otherwise, it's considered a special symbol\n",
        "        special_symbols += 1\n",
        "\n",
        "#Print the results\n",
        "print(f\"Letters: {letters}\")\n",
        "print(f\"Digits: {digits}\")\n",
        "print(f\"Special Symbols: {special_symbols}\")"
      ],
      "metadata": {
        "colab": {
          "base_uri": "https://localhost:8080/"
        },
        "id": "mQQZxHuuj4xU",
        "outputId": "2663129b-bcf6-4e3d-a7dc-c535c30e9539"
      },
      "execution_count": 54,
      "outputs": [
        {
          "output_type": "stream",
          "name": "stdout",
          "text": [
            "Letters: 8\n",
            "Digits: 3\n",
            "Special Symbols: 4\n"
          ]
        }
      ]
    },
    {
      "cell_type": "markdown",
      "source": [
        "### QUESTION 10\n",
        "\n",
        "Write a program to check if two strings are balanced. For example, two strings are balanced if all the characters in the first string are present in the second string. The character’s position doesn’t matter.\n",
        "\n",
        "Initialise the two strings as: `string1 = \"Yn\"` and `string2 = \"PYnative\"`"
      ],
      "metadata": {
        "id": "9uoN9MJWgDeu"
      }
    },
    {
      "cell_type": "code",
      "source": [
        "# To initialize the two strings\n",
        "string1 = \"Yn\"\n",
        "string2 = \"PYnative\""
      ],
      "metadata": {
        "id": "6mBEje7Ifhf5"
      },
      "execution_count": 55,
      "outputs": []
    },
    {
      "cell_type": "code",
      "source": [
        "# to check if all characters in string1 are present in string2\n",
        "def are_strings_balanced(string1, string2):\n",
        "    # Convert both strings to lowercase for case-insensitive comparison\n",
        "    string1 = string1.lower()\n",
        "    string2 = string2.lower()\n",
        "\n",
        "    # Check if every character in string1 is present in string2\n",
        "    for char in string1:\n",
        "        if char not in string2:\n",
        "            return False\n",
        "    return True"
      ],
      "metadata": {
        "id": "ygGKi06PlSaW"
      },
      "execution_count": 58,
      "outputs": []
    },
    {
      "cell_type": "code",
      "source": [
        "# Call the function and print the result\n",
        "if are_strings_balanced(string1, string2):\n",
        "    print(\"The strings are balanced.\")\n",
        "else:\n",
        "    print(\"The strings are not balanced.\")"
      ],
      "metadata": {
        "colab": {
          "base_uri": "https://localhost:8080/"
        },
        "id": "m3TKQ2jLlaC-",
        "outputId": "bf6dca64-14a5-4700-bdc1-9aa3366008db"
      },
      "execution_count": 57,
      "outputs": [
        {
          "output_type": "stream",
          "name": "stdout",
          "text": [
            "The strings are balanced.\n"
          ]
        }
      ]
    },
    {
      "cell_type": "markdown",
      "source": [
        "### QUESTION 11\n",
        "\n",
        "Write a program to find all occurrences of “USA” in a given sentence ignoring the case.\n",
        "\n",
        "Given: `sentence = \"Welcome to USA. usa awesome, isn't it?\"`. The result should be `2`.\n",
        "\n",
        "**Hint:** there is a python method that you can use to get the index of the first character you are searching for. Once you get it, use that index as start to slice string upto the next 3 characters (since USA is 3 letter word)."
      ],
      "metadata": {
        "id": "u7PwJOE5hNWP"
      }
    },
    {
      "cell_type": "code",
      "source": [
        "import re\n",
        "\n",
        "def count_usa_occurrences(sentence):\n",
        "    # Use regular expression to match 'USA' case-insensitively\n",
        "    matches = re.findall(r'usa', sentence, re.IGNORECASE)\n",
        "    return len(matches)\n",
        "\n",
        "# Given sentence\n",
        "sentence = \"Welcome to USA. usa awesome, isn't it?\"\n",
        "\n",
        "# Find and print the result\n",
        "result = count_usa_occurrences(sentence)\n",
        "print(result)"
      ],
      "metadata": {
        "id": "Al8KEGQAgz0s",
        "colab": {
          "base_uri": "https://localhost:8080/"
        },
        "outputId": "30169fd6-18ef-4112-d7c2-30bde41d645e"
      },
      "execution_count": 61,
      "outputs": [
        {
          "output_type": "stream",
          "name": "stdout",
          "text": [
            "2\n"
          ]
        }
      ]
    },
    {
      "cell_type": "markdown",
      "source": [
        "### QUESTION 12\n",
        "\n",
        "Given a string, write a program to return only the sum and average (in 2 decimal places) of the digits that appear in the string, ignoring all other characters.\n",
        "\n",
        "Given: `str1 = \"PYnative29@#8496\"`, the sum of the digit is `38` and the average is `6.33`.\n",
        "\n",
        "**Hint:**\n",
        "* Initialize a variable called total and assign 0 to it (`total=0`).\n",
        "* Also initialize count variable and assign 0 to it as well (`count=0`)\n",
        "* Iterate throguh the string (since it is a sequence of characters).\n",
        "* For each character, check if it is a number (there is a sting method to check if a string is a number).\n",
        "* If it is a number, sum it with the `total` variable that you initialized in step 1 and also increase the count variable by 1 to show that you are keeping track of the number of integers you have else just bypass and go to the next iteration.\n",
        "* After the iteration, you should have gotten the total sum and the number of integers in the string. To get the average, divide the `total` variable by `count` variable"
      ],
      "metadata": {
        "id": "5vkPWV8KijgZ"
      }
    },
    {
      "cell_type": "code",
      "source": [
        "def sum_and_average_of_digits(str1):\n",
        "    # Extract digits from the string\n",
        "    digits = [int(char) for char in str1 if char.isdigit()]\n",
        "\n",
        "    # If there are no digits, return sum and average as 0\n",
        "    if not digits:\n",
        "        return 0, 0\n",
        "\n",
        "    # Calculate the sum and average\n",
        "    digit_sum = sum(digits)\n",
        "    digit_avg = round(digit_sum / len(digits), 2)\n",
        "\n",
        "    return digit_sum, digit_avg\n",
        "\n",
        "# Given string\n",
        "str1 = \"PYnative29@#8496\"\n",
        "\n",
        "# Get the sum and average\n",
        "sum_digits, avg_digits = sum_and_average_of_digits(str1)\n",
        "\n",
        "# Print the results\n",
        "print(f\"Sum of digits: {sum_digits}\")\n",
        "print(f\"Average of digits: {avg_digits}\")"
      ],
      "metadata": {
        "id": "wlwWXhnukJ3t",
        "colab": {
          "base_uri": "https://localhost:8080/"
        },
        "outputId": "d7bef5c1-5416-4aff-86fb-62ed29c61d09"
      },
      "execution_count": 62,
      "outputs": [
        {
          "output_type": "stream",
          "name": "stdout",
          "text": [
            "Sum of digits: 38\n",
            "Average of digits: 6.33\n"
          ]
        }
      ]
    },
    {
      "cell_type": "markdown",
      "source": [
        "### QUESTION 13\n",
        "\n",
        "Write a program to print all characters and the number of characters within the string in **question 12**.\n",
        "\n",
        "**Hint:** Just like the precious question, create a count variable and assign 0 to it (`count=0`). But this time around, the variable will be used to track the count of characters. You will iterate to check if an element of a string in each iteration is a character (any of letter a-z or A-Z). If it is, increment that count variable by 1 and also print the character.v"
      ],
      "metadata": {
        "id": "_Kw83u2Kj30s"
      }
    },
    {
      "cell_type": "code",
      "source": [
        "def print_char_count(str1):\n",
        "    # Create an empty dictionary to store the count of each character\n",
        "    char_count = {}\n",
        "\n",
        "    # Iterate through each character in the string\n",
        "    for char in str1:\n",
        "        # Update the count of the character in the dictionary\n",
        "        if char in char_count:\n",
        "            char_count[char] += 1\n",
        "        else:\n",
        "            char_count[char] = 1\n",
        "\n",
        "    # Print each character and its count\n",
        "    for char, count in char_count.items():\n",
        "        print(f\"Character: '{char}' | Count: {count}\")\n",
        "\n",
        "# Given string\n",
        "str1 = \"PYnative29@#8496\"\n",
        "\n",
        "# Call the function to print the character counts\n",
        "print_char_count(str1)"
      ],
      "metadata": {
        "id": "33R0a7xskKtN",
        "colab": {
          "base_uri": "https://localhost:8080/"
        },
        "outputId": "2996e941-979a-462a-e656-269694934666"
      },
      "execution_count": 64,
      "outputs": [
        {
          "output_type": "stream",
          "name": "stdout",
          "text": [
            "Character: 'P' | Count: 1\n",
            "Character: 'Y' | Count: 1\n",
            "Character: 'n' | Count: 1\n",
            "Character: 'a' | Count: 1\n",
            "Character: 't' | Count: 1\n",
            "Character: 'i' | Count: 1\n",
            "Character: 'v' | Count: 1\n",
            "Character: 'e' | Count: 1\n",
            "Character: '2' | Count: 1\n",
            "Character: '9' | Count: 2\n",
            "Character: '@' | Count: 1\n",
            "Character: '#' | Count: 1\n",
            "Character: '8' | Count: 1\n",
            "Character: '4' | Count: 1\n",
            "Character: '6' | Count: 1\n"
          ]
        }
      ]
    },
    {
      "cell_type": "markdown",
      "source": [
        "### QUESTION 14\n",
        "\n",
        "Reverse and print the output of the string you got in **question 13**.\n"
      ],
      "metadata": {
        "id": "O0nhnHhOj5z-"
      }
    },
    {
      "cell_type": "code",
      "source": [
        "def reverse_string(str1):\n",
        "    # Reverse the string using slicing\n",
        "    reversed_str = str1[::-1]\n",
        "    return reversed_str\n",
        "\n",
        "# Given string\n",
        "str1 = \"PYnative29@#8496\"\n",
        "\n",
        "# Reverse and print the output\n",
        "reversed_str = reverse_string(str1)\n",
        "print(f\"Reversed string: {reversed_str}\")"
      ],
      "metadata": {
        "id": "XqZBV9pzl2fw",
        "colab": {
          "base_uri": "https://localhost:8080/"
        },
        "outputId": "14d18caa-75d1-4566-a0a2-a60ab2781d51"
      },
      "execution_count": 65,
      "outputs": [
        {
          "output_type": "stream",
          "name": "stdout",
          "text": [
            "Reversed string: 6948#@92evitanYP\n"
          ]
        }
      ]
    },
    {
      "cell_type": "markdown",
      "source": [
        "### QUESTION 15\n",
        "\n",
        "Write a program to print the index of the first character (`B`) of the last substring `“Beauty”` in the sentence:\n",
        "\n",
        "`str1 = \"Beauty is a data scientist who knows Python. Beauty works at google.\"`\n",
        "\n",
        "**Hint:** there is a string method to get the index of the first occurence of a string."
      ],
      "metadata": {
        "id": "RQisITJCj7qI"
      }
    },
    {
      "cell_type": "code",
      "source": [
        "def find_last_beauty_index(str1):\n",
        "    # Find the last occurrence of the substring 'Beauty'\n",
        "    index = str1.rfind('Beauty')\n",
        "    return index\n",
        "\n",
        "# Given string\n",
        "str1 = \"Beauty is a data scientist who knows Python. Beauty works at google.\"\n",
        "\n",
        "# Get the index of the first character of the last occurrence of 'Beauty'\n",
        "index = find_last_beauty_index(str1)\n",
        "\n",
        "# Print the result\n",
        "print(f\"The index of the first character of the last 'Beauty' is: {index}\")"
      ],
      "metadata": {
        "id": "40Lhl9rGqfg_",
        "colab": {
          "base_uri": "https://localhost:8080/"
        },
        "outputId": "99737c6b-5dd1-48a6-82b2-0fafd200f647"
      },
      "execution_count": 66,
      "outputs": [
        {
          "output_type": "stream",
          "name": "stdout",
          "text": [
            "The index of the first character of the last 'Beauty' is: 45\n"
          ]
        }
      ]
    },
    {
      "cell_type": "markdown",
      "source": [
        "### QUESTION 16\n",
        "\n",
        "Write a program to split a given string on hyphens and display each substring. Given: `str1 = Beauty-is-a-data-scientist.`\n",
        "\n",
        "**Hint:** string has a split method. Call help on `str`."
      ],
      "metadata": {
        "id": "vSSW4Bpjj9So"
      }
    },
    {
      "cell_type": "code",
      "source": [
        "str1 = \"Beauty-is-a-data-scientist\"\n",
        "\n",
        "# To aplit the string on hyphens\n",
        "substrings = str1.split('-')\n",
        "\n",
        "# Display each substring\n",
        "for substring in substrings:\n",
        "    print(substring)"
      ],
      "metadata": {
        "id": "c76N_JwAhrnP",
        "colab": {
          "base_uri": "https://localhost:8080/"
        },
        "outputId": "74a630d2-9f71-4c9b-afa6-140ebe72d576"
      },
      "execution_count": 1,
      "outputs": [
        {
          "output_type": "stream",
          "name": "stdout",
          "text": [
            "Beauty\n",
            "is\n",
            "a\n",
            "data\n",
            "scientist\n"
          ]
        }
      ]
    },
    {
      "cell_type": "markdown",
      "source": [
        "# BONUS QUESTION\n",
        "### FINDING THE MEDIAN INDEX OF A SEQUECE WITH EVEN SIZE IN PYTHON\n",
        "\n",
        "One thing i didn't mention was that the median index is different from the median value so for median index of a list with odd number as its size, we will have to choose the left or right index of the two middle index\n",
        "\n",
        "Check the code below for example"
      ],
      "metadata": {
        "id": "7j6P0HIkXP1o"
      }
    },
    {
      "cell_type": "code",
      "source": [
        "numbers = [1,2,39,4,166,7,8,93,50,12,11,23,45,67,78]\n",
        "sorted (numbers)\n",
        "n = len(numbers)\n",
        "print(n)\n",
        "numbers2= sum(numbers)\n",
        "numbers3 = (numbers2 + 1)\n",
        "# Median Index formular = [(n+1)/2]th\n",
        "median_index = (n+1)/2\n",
        "print (median_index)\n",
        "#Median Index is the eight value\n",
        "Numbers3 = sorted (numbers)\n",
        "Numbers3 [7]\n",
        "\n",
        "\n"
      ],
      "metadata": {
        "id": "bo_OVVfMiDeB",
        "colab": {
          "base_uri": "https://localhost:8080/"
        },
        "outputId": "c6f2271f-7ecb-451c-bd96-23d0f125d9df"
      },
      "execution_count": 67,
      "outputs": [
        {
          "output_type": "stream",
          "name": "stdout",
          "text": [
            "15\n",
            "8.0\n"
          ]
        },
        {
          "output_type": "execute_result",
          "data": {
            "text/plain": [
              "23"
            ]
          },
          "metadata": {},
          "execution_count": 67
        }
      ]
    },
    {
      "cell_type": "markdown",
      "source": [
        "Since we have two middle values becaue the length of the string is 2, we can say we don't have middle index unless we want to use the value of `mid_index` above which is 2 or we use a value below it which 1 (i.e 2-1 which is equal to 1 for the second position) as the index value."
      ],
      "metadata": {
        "id": "TsbYn3D7aYCL"
      }
    },
    {
      "cell_type": "markdown",
      "source": [
        "# READING ASSIGNMENT - PYTHON FUNCTION\n",
        "\n",
        "Read about [**python function here**](https://www.w3schools.com/python/python_functions.asp)."
      ],
      "metadata": {
        "id": "q13bqIcB-CVP"
      }
    },
    {
      "cell_type": "code",
      "source": [],
      "metadata": {
        "id": "PHzURxC7aRIM"
      },
      "execution_count": null,
      "outputs": []
    },
    {
      "cell_type": "code",
      "source": [],
      "metadata": {
        "id": "QgytUYOUhTKy"
      },
      "execution_count": null,
      "outputs": []
    }
  ]
}