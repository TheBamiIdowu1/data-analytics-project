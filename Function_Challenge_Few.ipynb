{
  "nbformat": 4,
  "nbformat_minor": 0,
  "metadata": {
    "colab": {
      "provenance": [],
      "include_colab_link": true
    },
    "kernelspec": {
      "name": "python3",
      "display_name": "Python 3"
    },
    "language_info": {
      "name": "python"
    }
  },
  "cells": [
    {
      "cell_type": "markdown",
      "metadata": {
        "id": "view-in-github",
        "colab_type": "text"
      },
      "source": [
        "<a href=\"https://colab.research.google.com/github/TheBamiIdowu1/data-analytics-project/blob/main/Function_Challenge_Few.ipynb\" target=\"_parent\"><img src=\"https://colab.research.google.com/assets/colab-badge.svg\" alt=\"Open In Colab\"/></a>"
      ]
    },
    {
      "cell_type": "markdown",
      "source": [
        "### QUESTION 1\n",
        "\n",
        "Write a python function named `is_palindrome` that takes 1 argument (a string) checks if the input string is a palindrome. The function should return `True` or `False`\n",
        "\n",
        "`palindrome`: a word is `palindrom` if it reads the same backward. E.g `madam`\n",
        "\n",
        "HINT: use the python `input` function to get an input."
      ],
      "metadata": {
        "id": "ucE_PVEmzazs"
      }
    },
    {
      "cell_type": "code",
      "source": [
        "# SOLUTION\n",
        "# a word is palindrome if it reads the same backwards\n",
        "\n",
        "def is_palindrome(word: str) -> bool:\n",
        "    word = word.lower()\n",
        "    return word == word[::-1]"
      ],
      "metadata": {
        "id": "MqpHqEFS3xtc"
      },
      "execution_count": 6,
      "outputs": []
    },
    {
      "cell_type": "code",
      "source": [
        "print(is_palindrome(\"madam\"))\n",
        "print(is_palindrome(\"treat\"))"
      ],
      "metadata": {
        "colab": {
          "base_uri": "https://localhost:8080/"
        },
        "id": "bHLt7OnG2cYz",
        "outputId": "8dfd104a-315b-4e32-cac0-bc8738a4e37a"
      },
      "execution_count": 9,
      "outputs": [
        {
          "output_type": "stream",
          "name": "stdout",
          "text": [
            "True\n",
            "False\n"
          ]
        }
      ]
    },
    {
      "cell_type": "markdown",
      "source": [
        "### QUESTION 2\n",
        "\n",
        "Given a list of numbers that are perfect squares between 1 and 40 `[1, 2, 4, 16, 25, 36]`.\n",
        "<br>\n",
        "Write a python function named `is_perfect` that accepts an input argument (any number between 1 and 40) and then checks if the number is a perfect square contained in that list. If it is in the list, the function should `return True` alse `return False`"
      ],
      "metadata": {
        "id": "EgExjLVPzi-Q"
      }
    },
    {
      "cell_type": "code",
      "source": [
        "# SOLUTION\n",
        "def is_perfect(int) -> bool:"
      ],
      "metadata": {
        "id": "v8dGOkR56rkG",
        "colab": {
          "base_uri": "https://localhost:8080/",
          "height": 106
        },
        "outputId": "b07e6563-c48c-4035-9326-443929e9f2d3"
      },
      "execution_count": 11,
      "outputs": [
        {
          "output_type": "error",
          "ename": "SyntaxError",
          "evalue": "incomplete input (<ipython-input-11-63aed4eb2adc>, line 2)",
          "traceback": [
            "\u001b[0;36m  File \u001b[0;32m\"<ipython-input-11-63aed4eb2adc>\"\u001b[0;36m, line \u001b[0;32m2\u001b[0m\n\u001b[0;31m    def is_perfect(int) -> bool:\u001b[0m\n\u001b[0m                                ^\u001b[0m\n\u001b[0;31mSyntaxError\u001b[0m\u001b[0;31m:\u001b[0m incomplete input\n"
          ]
        }
      ]
    },
    {
      "cell_type": "markdown",
      "source": [
        "### QUESTION 3\n",
        "\n",
        "Write a function name `is_even`. This function should take 1 argument and the return if the input argument is an even number. Output should be either `True` or `False`\n"
      ],
      "metadata": {
        "id": "WFU5xhYezjGh"
      }
    },
    {
      "cell_type": "code",
      "source": [
        "# SOLUTION\n",
        "\n"
      ],
      "metadata": {
        "id": "p2Ajj7I66u8t"
      },
      "execution_count": null,
      "outputs": []
    },
    {
      "cell_type": "markdown",
      "source": [
        "### QUESTION 4\n",
        "\n",
        "Write a named `grader`. The function requires 1 argument. It will check for the following condition below and return the appropriate expression:\n",
        "<br/>\n",
        "`return \"Fail\"` if an input score is less than 45  or<br/> `return \"Pass\"` if the score is between (45 and 50), or <br/>`return \"Good\"` if it is between (51 and 60)\n",
        "<br/>`return \"Very Good\"` if it is between (61 and 70) else <br/>`return \"Excellent\"` if the number greater than 70."
      ],
      "metadata": {
        "id": "03oqByaSzj1b"
      }
    },
    {
      "cell_type": "code",
      "source": [
        "# SOLUTION\n",
        "\n"
      ],
      "metadata": {
        "id": "VUmcOZXQ7Dj_"
      },
      "execution_count": null,
      "outputs": []
    },
    {
      "cell_type": "markdown",
      "source": [
        "### QUESTION 5\n",
        "\n",
        "Write a function named `dict_from_lists`. This function requires 2 argument which are list of the same length and then make a dictionary out of them where the first argument is used as the key and the second argument as the value of the dictionary that the function will return.\n",
        "\n",
        "Consider the example below, Given two different list below, Convert them to a dictionary:<br/>\n",
        "`keys = ['Ten', 'Twenty', 'Thirty']`\n",
        "\n",
        "`values = [10, 20, 30]`\n",
        "\n",
        "calling the function: dict_from_lists(keys, valyes)\n",
        "\n",
        "\n",
        "**HINT**: use the python `zip` function and then cast the result of the function to accomplish your desired output.\n",
        "\n",
        "Read more about python [zip function](https://www.w3schools.com/python/ref_func_zip.asp)"
      ],
      "metadata": {
        "id": "9W92m74azj-C"
      }
    },
    {
      "cell_type": "code",
      "source": [
        "# SOLUTION\n"
      ],
      "metadata": {
        "id": "mSGZS6Jk7FwE"
      },
      "execution_count": null,
      "outputs": []
    },
    {
      "cell_type": "markdown",
      "source": [
        "### QUESTION 6\n",
        "\n",
        "Write a python function named `get_intersect` that takes in two different set and return the common values in both sets.\n",
        "\n",
        "For example if:\n",
        "\n",
        "`set1 = {10, 20, 30, 40, 50}`\n",
        "\n",
        "`set2 = {60, 70, 80, 90, 10}`\n",
        "\n",
        "Then calling the function: get_intersect(set1, set2)\n",
        "\n",
        "Should result in the expected output: `{10}`\n",
        "\n",
        "**HINT**: there is a set method that can help."
      ],
      "metadata": {
        "id": "jTdw5ITfbCrr"
      }
    },
    {
      "cell_type": "code",
      "source": [
        "# SOLUTION\n",
        "set1 =\n"
      ],
      "metadata": {
        "id": "XX-AE9QibBfn"
      },
      "execution_count": null,
      "outputs": []
    }
  ]
}